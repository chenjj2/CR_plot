{
 "metadata": {
  "name": "",
  "signature": "sha256:57ab6d6f361b667e50bced420f625c5e080b12dfd40653bbb24b12fe0bdae615"
 },
 "nbformat": 3,
 "nbformat_minor": 0,
 "worksheets": [
  {
   "cells": [
    {
     "cell_type": "markdown",
     "metadata": {},
     "source": [
      "====READ ME====\n",
      "\n",
      "The first plot show the particles position in x-y plane.\n",
      "\n",
      "The second plot show the particles position in y-z plane.\n",
      "\n",
      "The third plot show the histogram of the distance between the particles and their center.\n",
      "\n",
      "Conclusion: our guess is wrong. They are smoothly distributed rather than crowded in a cluster with just one far away."
     ]
    },
    {
     "cell_type": "code",
     "collapsed": false,
     "input": [
      "import numpy as np\n",
      "import matplotlib.pyplot as plt\n",
      "% matplotlib inline"
     ],
     "language": "python",
     "metadata": {},
     "outputs": [],
     "prompt_number": 19
    },
    {
     "cell_type": "code",
     "collapsed": false,
     "input": [
      "f=open('allpos1.txt','r')\n",
      "line = f.readlines()\n",
      "allpos = np.zeros((3,len(line)))\n",
      "for i in range(len(line)):\n",
      "    pos = line[i].strip('\\n').split(' ')\n",
      "    allpos[:,i] = np.array(pos).astype(np.float)"
     ],
     "language": "python",
     "metadata": {},
     "outputs": [],
     "prompt_number": 20
    },
    {
     "cell_type": "code",
     "collapsed": false,
     "input": [
      "plt.plot(allpos[0,:],allpos[1,:],'.')"
     ],
     "language": "python",
     "metadata": {},
     "outputs": [
      {
       "metadata": {},
       "output_type": "pyout",
       "prompt_number": 21,
       "text": [
        "[<matplotlib.lines.Line2D at 0x106ce0f90>]"
       ]
      },
      {
       "metadata": {},
       "output_type": "display_data",
       "png": "[encoded data removed]",
       "text": [
        "<matplotlib.figure.Figure at 0x106af28d0>"
       ]
      }
     ],
     "prompt_number": 21
    },
    {
     "cell_type": "code",
     "collapsed": false,
     "input": [
      "plt.plot(allpos[0,:],allpos[2,:],'.')"
     ],
     "language": "python",
     "metadata": {},
     "outputs": [
      {
       "metadata": {},
       "output_type": "pyout",
       "prompt_number": 22,
       "text": [
        "[<matplotlib.lines.Line2D at 0x106ceaf10>]"
       ]
      },
      {
       "metadata": {},
       "output_type": "display_data",
       "png": "[encoded data removed]",
       "text": [
        "<matplotlib.figure.Figure at 0x106d73910>"
       ]
      }
     ],
     "prompt_number": 22
    },
    {
     "cell_type": "code",
     "collapsed": false,
     "input": [
      "n_particle = np.size(allpos)/3\n",
      "center = np.mean(allpos,axis=1)\n",
      "cen_all = np.tile(center,n_particle).reshape(n_particle,3).transpose()\n",
      "print np.shape(cen_all),np.shape(allpos)"
     ],
     "language": "python",
     "metadata": {},
     "outputs": [
      {
       "output_type": "stream",
       "stream": "stdout",
       "text": [
        "(3, 335) (3, 335)\n"
       ]
      }
     ],
     "prompt_number": 26
    },
    {
     "cell_type": "code",
     "collapsed": false,
     "input": [
      "tocenter = allpos-cen_all"
     ],
     "language": "python",
     "metadata": {},
     "outputs": [],
     "prompt_number": 27
    },
    {
     "cell_type": "code",
     "collapsed": false,
     "input": [
      "dist = np.linalg.norm(tocenter, axis=0)"
     ],
     "language": "python",
     "metadata": {},
     "outputs": [],
     "prompt_number": 28
    },
    {
     "cell_type": "code",
     "collapsed": false,
     "input": [
      "plt.hist(dist)"
     ],
     "language": "python",
     "metadata": {},
     "outputs": [
      {
       "metadata": {},
       "output_type": "pyout",
       "prompt_number": 30,
       "text": [
        "(array([ 11.,  37.,  72.,  93.,  67.,  34.,  10.,   6.,   4.,   1.]),\n",
        " array([ 0.00401383,  0.01074407,  0.01747431,  0.02420455,  0.03093478,\n",
        "         0.03766502,  0.04439526,  0.0511255 ,  0.05785574,  0.06458598,\n",
        "         0.07131621]),\n",
        " <a list of 10 Patch objects>)"
       ]
      },
      {
       "metadata": {},
       "output_type": "display_data",
       "png": "[encoded data removed]",
       "text": [
        "<matplotlib.figure.Figure at 0x106bd3650>"
       ]
      }
     ],
     "prompt_number": 30
    },
    {
     "cell_type": "code",
     "collapsed": false,
     "input": [],
     "language": "python",
     "metadata": {},
     "outputs": []
    }
   ],
   "metadata": {}
  }
 ]
}