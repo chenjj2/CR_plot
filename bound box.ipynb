{
 "metadata": {
  "name": "",
  "signature": "sha256:16cdcdffcbb82be89cf2a1564e66f52c2f57558e95eb4689c262c062540965ed"
 },
 "nbformat": 3,
 "nbformat_minor": 0,
 "worksheets": [
  {
   "cells": [
    {
     "cell_type": "code",
     "collapsed": false,
     "input": [
      "import numpy as np\n",
      "import matplotlib.pyplot as plt\n",
      "%matplotlib inline"
     ],
     "language": "python",
     "metadata": {},
     "outputs": [],
     "prompt_number": 36
    },
    {
     "cell_type": "code",
     "collapsed": false,
     "input": [
      "bound_box = np.array([3.73759736e-01, 8.58789612e-01, 6.64425789e-02,\n",
      "    6.82742678e-01, 1.26813123e+00, 2.83300361e-01]).reshape(2,3)"
     ],
     "language": "python",
     "metadata": {},
     "outputs": [],
     "prompt_number": 37
    },
    {
     "cell_type": "code",
     "collapsed": false,
     "input": [
      "print bound_box\n",
      "print np.mean(bound_box,axis=0)"
     ],
     "language": "python",
     "metadata": {},
     "outputs": [
      {
       "output_type": "stream",
       "stream": "stdout",
       "text": [
        "[[ 0.37375974  0.85878961  0.06644258]\n",
        " [ 0.68274268  1.26813123  0.28330036]]\n",
        "[ 0.52825121  1.06346042  0.17487147]\n"
       ]
      }
     ],
     "prompt_number": 38
    },
    {
     "cell_type": "code",
     "collapsed": false,
     "input": [
      "print bound_box[1,:]-bound_box[0,:]"
     ],
     "language": "python",
     "metadata": {},
     "outputs": [
      {
       "output_type": "stream",
       "stream": "stdout",
       "text": [
        "[ 0.30898294  0.40934162  0.21685778]\n"
       ]
      }
     ],
     "prompt_number": 39
    },
    {
     "cell_type": "code",
     "collapsed": false,
     "input": [
      "COM = np.array([5.67576304e-01, 9.82345127e-02+1, 7.43947938e-02])"
     ],
     "language": "python",
     "metadata": {},
     "outputs": [],
     "prompt_number": 40
    },
    {
     "cell_type": "code",
     "collapsed": false,
     "input": [
      "box_new = np.array([2.58354960e-01, 1.31042927e+00, 5.39674600e-01,\n",
      "    1.35092063e+00, 1.40299843e+00, 6.01082609e-01]).reshape(2,3)"
     ],
     "language": "python",
     "metadata": {},
     "outputs": [],
     "prompt_number": 41
    },
    {
     "cell_type": "code",
     "collapsed": false,
     "input": [
      "plt.figure()\n",
      "plt.plot(bound_box[:,0],bound_box[:,1],'bo')\n",
      "plt.plot(COM[0],COM[1],'ro')\n",
      "#plt.plot(box_new[:,0],box_new[:,1],'go')\n",
      "plt.figure()\n",
      "plt.plot(bound_box[:,0],bound_box[:,2],'bo')\n",
      "plt.plot(COM[0],COM[2],'ro')"
     ],
     "language": "python",
     "metadata": {},
     "outputs": [
      {
       "metadata": {},
       "output_type": "pyout",
       "prompt_number": 42,
       "text": [
        "[<matplotlib.lines.Line2D at 0x107095cd0>]"
       ]
      },
      {
       "metadata": {},
       "output_type": "display_data",
       "png": "[encoded data removed]",
       "text": [
        "<matplotlib.figure.Figure at 0x1073aaad0>"
       ]
      },
      {
       "metadata": {},
       "output_type": "display_data",
       "png": "[encoded data removed]",
       "text": [
        "<matplotlib.figure.Figure at 0x1072f5d90>"
       ]
      }
     ],
     "prompt_number": 42
    },
    {
     "cell_type": "code",
     "collapsed": false,
     "input": [
      "'''\n",
      "bound_box = np.array([4.74680791e-01, 7.88664695e-01, 9.26055230e-01,\n",
      "    7.53242012e-01, 1.02076683e+00, 1.09591055e+00]).reshape(2,3)\n",
      "COM = np.array([7.00702981e-01, 5.30265432e-02, 8.93324224e-01])\n",
      "box_new = np.array([2.73977811e-01, 1.23563815e+00, 5.32731005e-01,\n",
      "    5.52539031e-01, 1.46774029e+00, 7.02586324e-01]).reshape(2,3)\n",
      "plt.figure()\n",
      "plt.plot(bound_box[:,0],bound_box[:,1],'bo')\n",
      "plt.plot(COM[0],COM[1],'ro')\n",
      "plt.plot(box_new[:,0],box_new[:,1],'go')\n",
      "'''"
     ],
     "language": "python",
     "metadata": {},
     "outputs": [
      {
       "metadata": {},
       "output_type": "pyout",
       "prompt_number": 43,
       "text": [
        "\"\\nbound_box = np.array([4.74680791e-01, 7.88664695e-01, 9.26055230e-01,\\n    7.53242012e-01, 1.02076683e+00, 1.09591055e+00]).reshape(2,3)\\nCOM = np.array([7.00702981e-01, 5.30265432e-02, 8.93324224e-01])\\nbox_new = np.array([2.73977811e-01, 1.23563815e+00, 5.32731005e-01,\\n    5.52539031e-01, 1.46774029e+00, 7.02586324e-01]).reshape(2,3)\\nplt.figure()\\nplt.plot(bound_box[:,0],bound_box[:,1],'bo')\\nplt.plot(COM[0],COM[1],'ro')\\nplt.plot(box_new[:,0],box_new[:,1],'go')\\n\""
       ]
      }
     ],
     "prompt_number": 43
    },
    {
     "cell_type": "code",
     "collapsed": false,
     "input": [],
     "language": "python",
     "metadata": {},
     "outputs": [],
     "prompt_number": 43
    }
   ],
   "metadata": {}
  }
 ]
}